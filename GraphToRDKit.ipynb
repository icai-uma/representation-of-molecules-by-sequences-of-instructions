{
  "nbformat": 4,
  "nbformat_minor": 0,
  "metadata": {
    "colab": {
      "provenance": []
    },
    "kernelspec": {
      "name": "python3",
      "display_name": "Python 3"
    },
    "language_info": {
      "name": "python"
    }
  },
  "cells": [
    {
      "cell_type": "code",
      "source": [
        "class Node:\n",
        "    \"\"\" A node  \"\"\"\n",
        "    def __init__(self, node_id: int, data: str = \"\"):\n",
        "        self.node_id = node_id\n",
        "        self.data = data  # A string to identify the element of the atom\n",
        "        self.neighbors = []  # List of adjacent Node objects in the graph\n",
        "        self.edge_types = []  # List of bond types for the adjacent Node objects in the graph\n",
        "\n",
        "class Graph:\n",
        "    \"\"\" A graph that contains a Node object for each atom of the molecule \"\"\"\n",
        "    def __init__(self):\n",
        "        # Dictionary to store the nodes.\n",
        "        # Each key is a node ID (an integer)\n",
        "        # Each value is the associated Node object\n",
        "        self.nodes = {}"
      ],
      "metadata": {
        "id": "dpGC_rFlfjQv"
      },
      "execution_count": 3,
      "outputs": []
    },
    {
      "cell_type": "code",
      "source": [
        "!pip install rdkit-pypi"
      ],
      "metadata": {
        "colab": {
          "base_uri": "https://localhost:8080/"
        },
        "id": "fPL8vG4jfoz6",
        "outputId": "379e1778-5f57-478c-f9a4-ade0c54fef3f"
      },
      "execution_count": 4,
      "outputs": [
        {
          "output_type": "stream",
          "name": "stdout",
          "text": [
            "Collecting rdkit-pypi\n",
            "  Downloading rdkit_pypi-2022.9.5-cp310-cp310-manylinux_2_17_x86_64.manylinux2014_x86_64.whl.metadata (3.9 kB)\n",
            "Requirement already satisfied: numpy in /usr/local/lib/python3.10/dist-packages (from rdkit-pypi) (1.26.4)\n",
            "Requirement already satisfied: Pillow in /usr/local/lib/python3.10/dist-packages (from rdkit-pypi) (11.0.0)\n",
            "Downloading rdkit_pypi-2022.9.5-cp310-cp310-manylinux_2_17_x86_64.manylinux2014_x86_64.whl (29.4 MB)\n",
            "\u001b[2K   \u001b[90m━━━━━━━━━━━━━━━━━━━━━━━━━━━━━━━━━━━━━━━━\u001b[0m \u001b[32m29.4/29.4 MB\u001b[0m \u001b[31m57.4 MB/s\u001b[0m eta \u001b[36m0:00:00\u001b[0m\n",
            "\u001b[?25hInstalling collected packages: rdkit-pypi\n",
            "Successfully installed rdkit-pypi-2022.9.5\n"
          ]
        }
      ]
    },
    {
      "cell_type": "code",
      "execution_count": 5,
      "metadata": {
        "id": "fyrxpsSifGYI"
      },
      "outputs": [],
      "source": [
        "from rdkit.Chem import RWMol\n",
        "from rdkit.Chem import Atom, BondType\n",
        "\n",
        "def graph_to_mol(graph: Graph) -> RWMol:\n",
        "    \"\"\"\n",
        "    Converts an instance of the Graph class into an RDKit Mol instance.\n",
        "    \"\"\"\n",
        "    mol = RWMol()\n",
        "    node_to_idx = {}  # Map node_id to RDKit atom indices\n",
        "\n",
        "    # Add atoms to the molecule\n",
        "    for node_id, node in graph.nodes.items():\n",
        "        atom = Atom(node.data)  # Assume `node.data` holds the atomic symbol (e.g., 'C', 'O', 'N')\n",
        "        idx = mol.AddAtom(atom)\n",
        "        node_to_idx[node_id] = idx\n",
        "\n",
        "    # Add bonds to the molecule\n",
        "    for node_id, node in graph.nodes.items():\n",
        "        for neighbor, bond_type in zip(node.neighbors, node.edge_types):\n",
        "            # Add bonds only if the bond doesn't already exist\n",
        "            if mol.GetBondBetweenAtoms(node_to_idx[node_id], node_to_idx[neighbor.node_id]) is None:\n",
        "                mol.AddBond(\n",
        "                    node_to_idx[node_id],\n",
        "                    node_to_idx[neighbor.node_id],\n",
        "                    int_bond_type_to_rdkit(bond_type)\n",
        "                )\n",
        "\n",
        "    return mol\n",
        "\n",
        "def int_bond_type_to_rdkit(bond_type: int):\n",
        "    \"\"\"\n",
        "    Converts an integer bond type (1, 2, 3) into an RDKit BondType.\n",
        "    \"\"\"\n",
        "    bond_map = {\n",
        "        1: BondType.SINGLE,\n",
        "        2: BondType.DOUBLE,\n",
        "        3: BondType.TRIPLE,\n",
        "    }\n",
        "    return bond_map.get(bond_type, BondType.UNSPECIFIED)"
      ]
    },
    {
      "cell_type": "code",
      "source": [
        "# Example usage\n",
        "graph = Graph()\n",
        "\n",
        "# Create nodes (atoms)\n",
        "node1 = Node(node_id=1, data=\"C\")  # Carbon atom\n",
        "node2 = Node(node_id=2, data=\"O\")  # Oxygen atom\n",
        "node3 = Node(node_id=3, data=\"H\")  # Hydrogen atom\n",
        "node4 = Node(node_id=4, data=\"H\")  # Hydrogen atom\n",
        "\n",
        "# Add nodes to the graph\n",
        "graph.nodes[node1.node_id] = node1\n",
        "graph.nodes[node2.node_id] = node2\n",
        "graph.nodes[node3.node_id] = node3\n",
        "graph.nodes[node4.node_id] = node4\n",
        "\n",
        "# Define neighbors and bond types (ethanol example: CH3-CH2-OH)\n",
        "node1.neighbors = [node2, node3, node4]  # Carbon connected to Oxygen and two Hydrogens\n",
        "node1.edge_types = [1, 1, 1]  # All single bonds\n",
        "\n",
        "node2.neighbors = [node1]  # Oxygen connected back to Carbon\n",
        "node2.edge_types = [1]  # Single bond\n",
        "\n",
        "node3.neighbors = [node1]  # Hydrogen connected to Carbon\n",
        "node3.edge_types = [1]  # Single bond\n",
        "\n",
        "node4.neighbors = [node1]  # Hydrogen connected to Carbon\n",
        "node4.edge_types = [1]  # Single bond\n",
        "\n",
        "# Convert the Graph to an RDKit Mol\n",
        "mol = graph_to_mol(graph)\n",
        "\n",
        "# Print the Mol as a SMILES string (for validation)\n",
        "from rdkit.Chem import MolToSmiles\n",
        "print(MolToSmiles(mol))  # Expected output: \"CO\" (ethanol)\n"
      ],
      "metadata": {
        "colab": {
          "base_uri": "https://localhost:8080/"
        },
        "id": "EbmnGRCtfV_h",
        "outputId": "b47f9a8d-ef12-4c2f-f30c-319edbca35ac"
      },
      "execution_count": 6,
      "outputs": [
        {
          "output_type": "stream",
          "name": "stdout",
          "text": [
            "[H]C([H])O\n"
          ]
        }
      ]
    }
  ]
}